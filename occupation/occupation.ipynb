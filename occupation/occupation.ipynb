{
 "cells": [
  {
   "cell_type": "code",
   "execution_count": 1,
   "metadata": {},
   "outputs": [],
   "source": [
    "import pandas as pd\n",
    "import geopy\n",
    "from geopy.distance import geodesic\n",
    "import numpy as np"
   ]
  },
  {
   "cell_type": "code",
   "execution_count": 6,
   "metadata": {},
   "outputs": [],
   "source": [
    "df = pd.read_csv(\"/home/haziqfaiz/Documents/streamlit-app/data.csv\")\n",
    "df= df[[\"lat\",\"lon\",\"Occupation\"]]"
   ]
  },
  {
   "cell_type": "code",
   "execution_count": 7,
   "metadata": {},
   "outputs": [
    {
     "data": {
      "text/html": [
       "<div>\n",
       "<style scoped>\n",
       "    .dataframe tbody tr th:only-of-type {\n",
       "        vertical-align: middle;\n",
       "    }\n",
       "\n",
       "    .dataframe tbody tr th {\n",
       "        vertical-align: top;\n",
       "    }\n",
       "\n",
       "    .dataframe thead th {\n",
       "        text-align: right;\n",
       "    }\n",
       "</style>\n",
       "<table border=\"1\" class=\"dataframe\">\n",
       "  <thead>\n",
       "    <tr style=\"text-align: right;\">\n",
       "      <th></th>\n",
       "      <th>lat</th>\n",
       "      <th>lon</th>\n",
       "      <th>Occupation</th>\n",
       "    </tr>\n",
       "  </thead>\n",
       "  <tbody>\n",
       "    <tr>\n",
       "      <th>0</th>\n",
       "      <td>3.204187</td>\n",
       "      <td>101.756390</td>\n",
       "      <td>employer</td>\n",
       "    </tr>\n",
       "    <tr>\n",
       "      <th>1</th>\n",
       "      <td>3.136053</td>\n",
       "      <td>101.735584</td>\n",
       "      <td>employer</td>\n",
       "    </tr>\n",
       "    <tr>\n",
       "      <th>2</th>\n",
       "      <td>3.148253</td>\n",
       "      <td>101.683487</td>\n",
       "      <td>selfEmployed</td>\n",
       "    </tr>\n",
       "    <tr>\n",
       "      <th>3</th>\n",
       "      <td>3.194773</td>\n",
       "      <td>101.744810</td>\n",
       "      <td>privateEemployee</td>\n",
       "    </tr>\n",
       "    <tr>\n",
       "      <th>4</th>\n",
       "      <td>3.194195</td>\n",
       "      <td>101.726338</td>\n",
       "      <td>privateEemployee</td>\n",
       "    </tr>\n",
       "  </tbody>\n",
       "</table>\n",
       "</div>"
      ],
      "text/plain": [
       "        lat         lon        Occupation\n",
       "0  3.204187  101.756390          employer\n",
       "1  3.136053  101.735584          employer\n",
       "2  3.148253  101.683487      selfEmployed\n",
       "3  3.194773  101.744810  privateEemployee\n",
       "4  3.194195  101.726338  privateEemployee"
      ]
     },
     "execution_count": 7,
     "metadata": {},
     "output_type": "execute_result"
    }
   ],
   "source": [
    "df.head()"
   ]
  },
  {
   "cell_type": "code",
   "execution_count": 8,
   "metadata": {},
   "outputs": [],
   "source": [
    "df[\"List Occupation\"] = None"
   ]
  },
  {
   "cell_type": "code",
   "execution_count": 10,
   "metadata": {},
   "outputs": [],
   "source": [
    "for idx1,row1 in df.iterrows():\n",
    "    occupation_list=[]\n",
    "    for idx2,row2 in df.iterrows():\n",
    "        x =((df.loc[idx1,\"lat\"],df.loc[idx1,\"lon\"]))\n",
    "        y =(df.loc[idx2,\"lat\"],df.loc[idx2,\"lon\"])\n",
    "        if(geodesic(x,y).km) <=2:\n",
    "            occupation_list.append(df.loc[idx2,\"Occupation\"])\n",
    "    df.at[idx1,\"List Occupation\"] = list(occupation_list)"
   ]
  },
  {
   "cell_type": "code",
   "execution_count": 11,
   "metadata": {},
   "outputs": [
    {
     "data": {
      "text/html": [
       "<div>\n",
       "<style scoped>\n",
       "    .dataframe tbody tr th:only-of-type {\n",
       "        vertical-align: middle;\n",
       "    }\n",
       "\n",
       "    .dataframe tbody tr th {\n",
       "        vertical-align: top;\n",
       "    }\n",
       "\n",
       "    .dataframe thead th {\n",
       "        text-align: right;\n",
       "    }\n",
       "</style>\n",
       "<table border=\"1\" class=\"dataframe\">\n",
       "  <thead>\n",
       "    <tr style=\"text-align: right;\">\n",
       "      <th></th>\n",
       "      <th>lat</th>\n",
       "      <th>lon</th>\n",
       "      <th>Occupation</th>\n",
       "      <th>List Occupation</th>\n",
       "      <th>List Expense</th>\n",
       "    </tr>\n",
       "  </thead>\n",
       "  <tbody>\n",
       "    <tr>\n",
       "      <th>0</th>\n",
       "      <td>3.204187</td>\n",
       "      <td>101.756390</td>\n",
       "      <td>employer</td>\n",
       "      <td>[employer, privateEemployee, privateEemployee,...</td>\n",
       "      <td>NaN</td>\n",
       "    </tr>\n",
       "    <tr>\n",
       "      <th>1</th>\n",
       "      <td>3.136053</td>\n",
       "      <td>101.735584</td>\n",
       "      <td>employer</td>\n",
       "      <td>[employer, privateEemployee, govServant, priva...</td>\n",
       "      <td>NaN</td>\n",
       "    </tr>\n",
       "    <tr>\n",
       "      <th>2</th>\n",
       "      <td>3.148253</td>\n",
       "      <td>101.683487</td>\n",
       "      <td>selfEmployed</td>\n",
       "      <td>[selfEmployed, selfEmployed, selfEmployed, pri...</td>\n",
       "      <td>NaN</td>\n",
       "    </tr>\n",
       "    <tr>\n",
       "      <th>3</th>\n",
       "      <td>3.194773</td>\n",
       "      <td>101.744810</td>\n",
       "      <td>privateEemployee</td>\n",
       "      <td>[employer, privateEemployee, govServant, priva...</td>\n",
       "      <td>NaN</td>\n",
       "    </tr>\n",
       "    <tr>\n",
       "      <th>4</th>\n",
       "      <td>3.194195</td>\n",
       "      <td>101.726338</td>\n",
       "      <td>privateEemployee</td>\n",
       "      <td>[privateEemployee, privateEemployee, selfEmplo...</td>\n",
       "      <td>NaN</td>\n",
       "    </tr>\n",
       "  </tbody>\n",
       "</table>\n",
       "</div>"
      ],
      "text/plain": [
       "        lat         lon        Occupation  \\\n",
       "0  3.204187  101.756390          employer   \n",
       "1  3.136053  101.735584          employer   \n",
       "2  3.148253  101.683487      selfEmployed   \n",
       "3  3.194773  101.744810  privateEemployee   \n",
       "4  3.194195  101.726338  privateEemployee   \n",
       "\n",
       "                                     List Occupation  List Expense  \n",
       "0  [employer, privateEemployee, privateEemployee,...           NaN  \n",
       "1  [employer, privateEemployee, govServant, priva...           NaN  \n",
       "2  [selfEmployed, selfEmployed, selfEmployed, pri...           NaN  \n",
       "3  [employer, privateEemployee, govServant, priva...           NaN  \n",
       "4  [privateEemployee, privateEemployee, selfEmplo...           NaN  "
      ]
     },
     "execution_count": 11,
     "metadata": {},
     "output_type": "execute_result"
    }
   ],
   "source": [
    "df.head()"
   ]
  },
  {
   "cell_type": "code",
   "execution_count": 12,
   "metadata": {},
   "outputs": [],
   "source": [
    "df.to_csv(\"Occupations Count\")"
   ]
  },
  {
   "cell_type": "code",
   "execution_count": 22,
   "metadata": {},
   "outputs": [],
   "source": [
    "df2 = pd.read_csv(\"Occupations Count\")\n",
    "l=df2[\"List Occupation\"][0]"
   ]
  },
  {
   "cell_type": "code",
   "execution_count": 23,
   "metadata": {},
   "outputs": [],
   "source": [
    "l=l[1:-1].replace(\"'\",\"\").split(\",\")\n"
   ]
  },
  {
   "cell_type": "code",
   "execution_count": 25,
   "metadata": {},
   "outputs": [
    {
     "name": "stdout",
     "output_type": "stream",
     "text": [
      "employer\n"
     ]
    }
   ],
   "source": [
    "print(l[0])"
   ]
  },
  {
   "cell_type": "code",
   "execution_count": null,
   "metadata": {},
   "outputs": [],
   "source": []
  }
 ],
 "metadata": {
  "kernelspec": {
   "display_name": "Python 3.10.8 64-bit",
   "language": "python",
   "name": "python3"
  },
  "language_info": {
   "codemirror_mode": {
    "name": "ipython",
    "version": 3
   },
   "file_extension": ".py",
   "mimetype": "text/x-python",
   "name": "python",
   "nbconvert_exporter": "python",
   "pygments_lexer": "ipython3",
   "version": "3.10.8"
  },
  "orig_nbformat": 4,
  "vscode": {
   "interpreter": {
    "hash": "e7370f93d1d0cde622a1f8e1c04877d8463912d04d973331ad4851f04de6915a"
   }
  }
 },
 "nbformat": 4,
 "nbformat_minor": 2
}
